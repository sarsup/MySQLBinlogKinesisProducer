{
 "cells": [
  {
   "cell_type": "code",
   "execution_count": null,
   "metadata": {
    "collapsed": false
   },
   "outputs": [],
   "source": [
    "import json\n",
    "import boto3\n",
    "from pymysqlreplication import BinLogStreamReader\n",
    "from pymysqlreplication.row_event import (\n",
    "  DeleteRowsEvent,\n",
    "  UpdateRowsEvent,\n",
    "  WriteRowsEvent,\n",
    ")\n",
    "from datetime import datetime, date\n",
    "from decimal import Decimal\n",
    "from pymysql.err import InternalError\n",
    "import os\n",
    "import sys\n",
    "import traceback\n",
    "try:\n",
    "    dir_path = os.path.dirname(os.path.realpath(__file__))\n",
    "    os.chdir(dir_path)\n",
    "except Exception as e:\n",
    "    print (\"Assuming code run from notebook as \" + str(e))\n",
    "PROJECTNAME = 'data-warehouse'\n",
    "cwd = os.getcwd().split('/')\n",
    "ind = cwd.index(PROJECTNAME)\n",
    "projectroot = \"/\".join(cwd[:ind+1])\n",
    "sys.path.insert(0,projectroot)\n",
    "from conf import dbconfig as cfg\n",
    "from conf import connections as conn"
   ]
  },
  {
   "cell_type": "code",
   "execution_count": null,
   "metadata": {
    "collapsed": true
   },
   "outputs": [],
   "source": [
    "def getBinlogStream(connection_dict=cfg.bitspring_slave,server_id=145106,log_file=None,log_pos=None):\n",
    "    \n",
    "    stream = BinLogStreamReader(\n",
    "        connection_settings= connection_dict,\n",
    "        server_id=server_id,\n",
    "        blocking=True,\n",
    "        resume_stream=True,\n",
    "        log_file = log_file,\n",
    "        log_pos = log_pos,\n",
    "        only_events=[DeleteRowsEvent, WriteRowsEvent, UpdateRowsEvent])\n",
    "    return stream\n"
   ]
  },
  {
   "cell_type": "code",
   "execution_count": null,
   "metadata": {
    "collapsed": false
   },
   "outputs": [],
   "source": [
    "def json_serial(obj):\n",
    "    \"\"\"JSON serializer for objects not serializable by default json code\"\"\"\n",
    "\n",
    "    if isinstance(obj, (datetime, date)):\n",
    "        serial = obj.isoformat()\n",
    "        return serial\n",
    "    if isinstance(obj,Decimal):\n",
    "        return float(obj)\n",
    "    raise TypeError (\"Type %s not serializable\" % type(obj))"
   ]
  },
  {
   "cell_type": "code",
   "execution_count": null,
   "metadata": {
    "collapsed": false,
    "scrolled": false
   },
   "outputs": [],
   "source": [
    "def kinesisBinlogProducer(stream,kinesisClient,log_file=None,log_pos=None):\n",
    "\n",
    "    loop = True\n",
    "    log_file = log_file\n",
    "    log_pos=log_pos\n",
    "    restartnum = 0\n",
    "    while loop:\n",
    "        try:\n",
    "            for binlogevent in stream:\n",
    "                restartnum=0\n",
    "                if log_file!=stream.log_file:\n",
    "                    print log_file, stream.log_file\n",
    "                    log_file = stream.log_file\n",
    "                log_pos = binlogevent.packet.log_pos\n",
    "                structure = {}\n",
    "                for col in binlogevent.table_map[binlogevent.table_id].column_schemas:\n",
    "                    structure[col['COLUMN_NAME']] = col['COLUMN_TYPE']\n",
    "                for row in binlogevent.rows:\n",
    "                    event = {\"schema\": binlogevent.schema,\n",
    "                    \"table\": binlogevent.table,\n",
    "                    \"type\": type(binlogevent).__name__,\n",
    "                    \"metadata_timestamp\": binlogevent.timestamp,\n",
    "                    \"primary_key\" : binlogevent.__dict__['primary_key'],\n",
    "                    \"structure\" : structure,\n",
    "                    \"row\": row\n",
    "                    }\n",
    "                    kinesisClient.put_record(StreamName=\"YOUR_STREAM_NAME\", \n",
    "                                       Data=json.dumps(event, default = json_serial), \n",
    "                                       PartitionKey=\"default\")\n",
    "\n",
    "        except InternalError as e:\n",
    "            '''get stream again with previous log_file and log_pos'''\n",
    "            exc_type, exc_value, exc_traceback = sys.exc_info()\n",
    "            print repr(traceback.format_exception(exc_type, exc_value, exc_traceback))\n",
    "            print \"Restarting stream with \" + stream.log_file + \" \" + str(log_pos)\n",
    "            stream = getBinlogStream(log_file=log_file,log_pos=log_pos)\n",
    "            restartnum +=1\n",
    "            if restartnum>=10:\n",
    "                raise InternalError(repr(traceback.format_exception(exc_type, exc_value, exc_traceback)))\n",
    "\n",
    "        except KeyboardInterrupt as e:\n",
    "            exc_type, exc_value, exc_traceback = sys.exc_info()\n",
    "            print \"User requested stop\"\n",
    "            loop = False\n",
    "\n",
    "        finally:\n",
    "            with open(\"last_binlog_position\",\"w\") as sbinlog:\n",
    "                sbinlog.write(log_file+\",\"+str(log_pos))"
   ]
  },
  {
   "cell_type": "code",
   "execution_count": null,
   "metadata": {
    "collapsed": false
   },
   "outputs": [],
   "source": [
    "def main():\n",
    "    sess = boto3.Session(profile_name=\"bigdata\")\n",
    "    kinesis = sess.client(\"kinesis\")\n",
    "    log_pos=None\n",
    "    log_file=None\n",
    "    stream = getBinlogStream(log_file=log_file,log_pos=log_pos)\n",
    "    kinesisBinlogProducer(stream,kinesis,log_file,log_pos)\n",
    "  "
   ]
  },
  {
   "cell_type": "code",
   "execution_count": null,
   "metadata": {
    "collapsed": false,
    "scrolled": true
   },
   "outputs": [],
   "source": [
    "if __name__ == \"__main__\":\n",
    "    main()"
   ]
  }
 ],
 "metadata": {
  "kernelspec": {
   "display_name": "Python 2",
   "language": "python",
   "name": "python2"
  },
  "language_info": {
   "codemirror_mode": {
    "name": "ipython",
    "version": 2
   },
   "file_extension": ".py",
   "mimetype": "text/x-python",
   "name": "python",
   "nbconvert_exporter": "python",
   "pygments_lexer": "ipython2",
   "version": "2.7.13"
  }
 },
 "nbformat": 4,
 "nbformat_minor": 2
}
